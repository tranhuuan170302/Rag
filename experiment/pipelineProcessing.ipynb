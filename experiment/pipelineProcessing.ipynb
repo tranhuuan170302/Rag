{
 "cells": [
  {
   "cell_type": "code",
   "execution_count": 1,
   "metadata": {},
   "outputs": [],
   "source": [
    "import pandas as pd\n",
    "import re\n",
    "from sklearn.feature_extraction.text import TfidfVectorizer\n",
    "from pymongo.mongo_client import MongoClient\n",
    "from pymongo.database import Database"
   ]
  },
  {
   "cell_type": "code",
   "execution_count": 2,
   "metadata": {},
   "outputs": [],
   "source": [
    "def signleTon(class_instance):\n",
    "    instances = {}\n",
    "    \n",
    "    def get_instances(*args, **kwargs):\n",
    "        if class_instance not in instances:\n",
    "            instances[class_instance] = class_instance(*args, **kwargs)\n",
    "        return instances[class_instance]\n",
    "    \n",
    "    return get_instances\n",
    "\n",
    "@signleTon\n",
    "class MongoDBConnection:\n",
    "    \n",
    "    def __init__(self, url_database, db_connection):\n",
    "        self._client = MongoClient(url_database)\n",
    "        self._db = self._client[db_connection]\n",
    "    \n",
    "    def get_database(self) -> Database:\n",
    "        return self._db"
   ]
  },
  {
   "cell_type": "code",
   "execution_count": 3,
   "metadata": {},
   "outputs": [],
   "source": [
    "# call data\n",
    "\n",
    "MONGODB_URL = \"mongodb://localhost:27017/\"\n",
    "DATABASE_NAME = \"DATABASE_SHOPEE\"\n",
    "\n",
    "def get_data():\n",
    "    db = MongoDBConnection(MONGODB_URL, DATABASE_NAME).get_database()\n",
    "    collection = db['products']\n",
    "    data = pd.DataFrame(list(collection.find()))\n",
    "    return data"
   ]
  },
  {
   "cell_type": "code",
   "execution_count": 4,
   "metadata": {},
   "outputs": [],
   "source": [
    "df = get_data()"
   ]
  },
  {
   "cell_type": "code",
   "execution_count": 5,
   "metadata": {},
   "outputs": [
    {
     "data": {
      "text/html": [
       "<div>\n",
       "<style scoped>\n",
       "    .dataframe tbody tr th:only-of-type {\n",
       "        vertical-align: middle;\n",
       "    }\n",
       "\n",
       "    .dataframe tbody tr th {\n",
       "        vertical-align: top;\n",
       "    }\n",
       "\n",
       "    .dataframe thead th {\n",
       "        text-align: right;\n",
       "    }\n",
       "</style>\n",
       "<table border=\"1\" class=\"dataframe\">\n",
       "  <thead>\n",
       "    <tr style=\"text-align: right;\">\n",
       "      <th></th>\n",
       "      <th>_id</th>\n",
       "      <th>id</th>\n",
       "      <th>name</th>\n",
       "      <th>type</th>\n",
       "      <th>current_seller</th>\n",
       "      <th>images</th>\n",
       "      <th>short_url</th>\n",
       "      <th>thumbnail_url</th>\n",
       "      <th>short_description</th>\n",
       "      <th>description</th>\n",
       "      <th>rating_average</th>\n",
       "      <th>quantity_sold</th>\n",
       "      <th>embedding</th>\n",
       "    </tr>\n",
       "  </thead>\n",
       "  <tbody>\n",
       "    <tr>\n",
       "      <th>0</th>\n",
       "      <td>67025a168a85cf6b261b7980</td>\n",
       "      <td>263166362</td>\n",
       "      <td>Bài Tập Tiếng Anh 8 ( Theo chương trình GDPT M...</td>\n",
       "      <td>simple</td>\n",
       "      <td>94000</td>\n",
       "      <td>[{'base_url': 'https://salt.tikicdn.com/ts/pro...</td>\n",
       "      <td>https://tiki.vn/product-p263166362.html?spid=2...</td>\n",
       "      <td>https://salt.tikicdn.com/cache/280x280/ts/prod...</td>\n",
       "      <td>Các em học sinh thân mến!Chúng tôi biên soạn B...</td>\n",
       "      <td>Các em học sinh thân mến!\\nChúng tôi biên soạn...</td>\n",
       "      <td>5.0</td>\n",
       "      <td>119</td>\n",
       "      <td>[[4.627774160326226e-06, -0.000711660424713045...</td>\n",
       "    </tr>\n",
       "    <tr>\n",
       "      <th>1</th>\n",
       "      <td>67025a1a8a85cf6b261b7981</td>\n",
       "      <td>263693271</td>\n",
       "      <td>Bảng trắng có chân gấp Flipchart F3 PolyTaiwan...</td>\n",
       "      <td>simple</td>\n",
       "      <td>1100000</td>\n",
       "      <td>[{'base_url': 'https://salt.tikicdn.com/ts/pro...</td>\n",
       "      <td>https://tiki.vn/product-p263693271.html?spid=2...</td>\n",
       "      <td>https://salt.tikicdn.com/cache/280x280/ts/prod...</td>\n",
       "      <td>Bảng Trắng Có Chân Gấp Flipchart của thương hi...</td>\n",
       "      <td>Bảng Trắng Có Chân Gấp Flipchart của thương hi...</td>\n",
       "      <td>0.0</td>\n",
       "      <td>6</td>\n",
       "      <td>[[-0.004785317927598953, -0.013490630313754082...</td>\n",
       "    </tr>\n",
       "    <tr>\n",
       "      <th>2</th>\n",
       "      <td>67025a1d8a85cf6b261b7982</td>\n",
       "      <td>262977989</td>\n",
       "      <td>Kế Toán Vỉa Hè - Thực Hành Báo Cáo Tài Chính C...</td>\n",
       "      <td>simple</td>\n",
       "      <td>169000</td>\n",
       "      <td>[{'base_url': 'https://salt.tikicdn.com/ts/pro...</td>\n",
       "      <td>https://tiki.vn/product-p262977989.html?spid=2...</td>\n",
       "      <td>https://salt.tikicdn.com/cache/280x280/ts/prod...</td>\n",
       "      <td>BIẾN KẾ TOÁN KHÔ KHAN TRỞ THÀNH TRÒ CHƠI CON T...</td>\n",
       "      <td>BIẾN KẾ TOÁN KHÔ KHAN TRỞ THÀNH TRÒ CHƠI CON T...</td>\n",
       "      <td>5.0</td>\n",
       "      <td>13264</td>\n",
       "      <td>[[-0.02545916847884655, -0.0020544526632875204...</td>\n",
       "    </tr>\n",
       "    <tr>\n",
       "      <th>3</th>\n",
       "      <td>67025a228a85cf6b261b7983</td>\n",
       "      <td>275025208</td>\n",
       "      <td>Sách Combo 2 Cuốn : Tư Duy Ngược + Tư Duy Mở (...</td>\n",
       "      <td>simple</td>\n",
       "      <td>138000</td>\n",
       "      <td>[{'base_url': 'https://salt.tikicdn.com/ts/pro...</td>\n",
       "      <td>https://tiki.vn/product-p275025208.html?spid=2...</td>\n",
       "      <td>https://salt.tikicdn.com/cache/280x280/ts/prod...</td>\n",
       "      <td>THÔNG TIN TÁC PHẨMTên tác phẩm: Combo 2 Cuốn T...</td>\n",
       "      <td>THÔNG TIN TÁC PHẨM\\n\\nTên tác phẩm: Combo 2 Cu...</td>\n",
       "      <td>4.8</td>\n",
       "      <td>2657</td>\n",
       "      <td>[[-0.0005972246290184557, 0.00408864114433527,...</td>\n",
       "    </tr>\n",
       "    <tr>\n",
       "      <th>4</th>\n",
       "      <td>67025a268a85cf6b261b7984</td>\n",
       "      <td>270546273</td>\n",
       "      <td>Combo Tư Duy Ngược + Tư Duy Mở (Nguyễn Anh Dũn...</td>\n",
       "      <td>simple</td>\n",
       "      <td>135000</td>\n",
       "      <td>[{'base_url': 'https://salt.tikicdn.com/ts/pro...</td>\n",
       "      <td>https://tiki.vn/product-p270546273.html?spid=2...</td>\n",
       "      <td>https://salt.tikicdn.com/cache/280x280/ts/prod...</td>\n",
       "      <td>THÔNG TIN TÁC PHẨMTên tác phẩm: Combo 2 Cuốn T...</td>\n",
       "      <td>THÔNG TIN TÁC PHẨM\\n\\nTên tác phẩm: Combo 2 Cu...</td>\n",
       "      <td>4.7</td>\n",
       "      <td>1767</td>\n",
       "      <td>[[-0.009435735642910004, -0.007636362221091986...</td>\n",
       "    </tr>\n",
       "  </tbody>\n",
       "</table>\n",
       "</div>"
      ],
      "text/plain": [
       "                        _id         id  \\\n",
       "0  67025a168a85cf6b261b7980  263166362   \n",
       "1  67025a1a8a85cf6b261b7981  263693271   \n",
       "2  67025a1d8a85cf6b261b7982  262977989   \n",
       "3  67025a228a85cf6b261b7983  275025208   \n",
       "4  67025a268a85cf6b261b7984  270546273   \n",
       "\n",
       "                                                name    type  current_seller  \\\n",
       "0  Bài Tập Tiếng Anh 8 ( Theo chương trình GDPT M...  simple           94000   \n",
       "1  Bảng trắng có chân gấp Flipchart F3 PolyTaiwan...  simple         1100000   \n",
       "2  Kế Toán Vỉa Hè - Thực Hành Báo Cáo Tài Chính C...  simple          169000   \n",
       "3  Sách Combo 2 Cuốn : Tư Duy Ngược + Tư Duy Mở (...  simple          138000   \n",
       "4  Combo Tư Duy Ngược + Tư Duy Mở (Nguyễn Anh Dũn...  simple          135000   \n",
       "\n",
       "                                              images  \\\n",
       "0  [{'base_url': 'https://salt.tikicdn.com/ts/pro...   \n",
       "1  [{'base_url': 'https://salt.tikicdn.com/ts/pro...   \n",
       "2  [{'base_url': 'https://salt.tikicdn.com/ts/pro...   \n",
       "3  [{'base_url': 'https://salt.tikicdn.com/ts/pro...   \n",
       "4  [{'base_url': 'https://salt.tikicdn.com/ts/pro...   \n",
       "\n",
       "                                           short_url  \\\n",
       "0  https://tiki.vn/product-p263166362.html?spid=2...   \n",
       "1  https://tiki.vn/product-p263693271.html?spid=2...   \n",
       "2  https://tiki.vn/product-p262977989.html?spid=2...   \n",
       "3  https://tiki.vn/product-p275025208.html?spid=2...   \n",
       "4  https://tiki.vn/product-p270546273.html?spid=2...   \n",
       "\n",
       "                                       thumbnail_url  \\\n",
       "0  https://salt.tikicdn.com/cache/280x280/ts/prod...   \n",
       "1  https://salt.tikicdn.com/cache/280x280/ts/prod...   \n",
       "2  https://salt.tikicdn.com/cache/280x280/ts/prod...   \n",
       "3  https://salt.tikicdn.com/cache/280x280/ts/prod...   \n",
       "4  https://salt.tikicdn.com/cache/280x280/ts/prod...   \n",
       "\n",
       "                                   short_description  \\\n",
       "0  Các em học sinh thân mến!Chúng tôi biên soạn B...   \n",
       "1  Bảng Trắng Có Chân Gấp Flipchart của thương hi...   \n",
       "2  BIẾN KẾ TOÁN KHÔ KHAN TRỞ THÀNH TRÒ CHƠI CON T...   \n",
       "3  THÔNG TIN TÁC PHẨMTên tác phẩm: Combo 2 Cuốn T...   \n",
       "4  THÔNG TIN TÁC PHẨMTên tác phẩm: Combo 2 Cuốn T...   \n",
       "\n",
       "                                         description  rating_average  \\\n",
       "0  Các em học sinh thân mến!\\nChúng tôi biên soạn...             5.0   \n",
       "1  Bảng Trắng Có Chân Gấp Flipchart của thương hi...             0.0   \n",
       "2  BIẾN KẾ TOÁN KHÔ KHAN TRỞ THÀNH TRÒ CHƠI CON T...             5.0   \n",
       "3  THÔNG TIN TÁC PHẨM\\n\\nTên tác phẩm: Combo 2 Cu...             4.8   \n",
       "4  THÔNG TIN TÁC PHẨM\\n\\nTên tác phẩm: Combo 2 Cu...             4.7   \n",
       "\n",
       "   quantity_sold                                          embedding  \n",
       "0            119  [[4.627774160326226e-06, -0.000711660424713045...  \n",
       "1              6  [[-0.004785317927598953, -0.013490630313754082...  \n",
       "2          13264  [[-0.02545916847884655, -0.0020544526632875204...  \n",
       "3           2657  [[-0.0005972246290184557, 0.00408864114433527,...  \n",
       "4           1767  [[-0.009435735642910004, -0.007636362221091986...  "
      ]
     },
     "execution_count": 5,
     "metadata": {},
     "output_type": "execute_result"
    }
   ],
   "source": [
    "df.head()"
   ]
  },
  {
   "cell_type": "code",
   "execution_count": 6,
   "metadata": {},
   "outputs": [],
   "source": [
    "# load stopword\n",
    "def load_stopwords(file_path: str):\n",
    "    \"\"\"\n",
    "    Đọc stopwords từ file và trả về dưới dạng một danh sách.\n",
    "    \"\"\"\n",
    "    stopwords = None\n",
    "    with open(file_path, 'r', encoding='utf-8') as file:\n",
    "        stopwords = [line.strip() for line in file]\n",
    "    return stopwords\n",
    "\n",
    "stopWord = load_stopwords(\"D:\\WorkSpace\\RAG\\src\\services\\stopWord.txt\")"
   ]
  },
  {
   "cell_type": "code",
   "execution_count": 7,
   "metadata": {},
   "outputs": [],
   "source": [
    "# clearn text and characters specified\n",
    "\n",
    "def remove_numbers_and_special_chars(text):\n",
    "    \"\"\"\n",
    "    Hàm loại bỏ số và các ký tự đặc biệt, giữ lại chữ cái có dấu trong văn bản tiếng Việt.\n",
    "    \"\"\"\n",
    "    # Sử dụng regex để loại bỏ số và ký tự đặc biệt nhưng giữ lại dấu tiếng Việt\n",
    "    text = re.sub(r'[0-9]', '', text)  # Loại bỏ số\n",
    "    text = re.sub(r'[^\\w\\sÀÁÂÃÈÉÊÌÍÒÓÔÕÙÚĂĐĨŨƠàáâãèéêìíòóôõùúăđĩũơ'\n",
    "                  r'ẠẢẤẦẨẪẬẮẰẲẴẶẸẺẼỀỀỂỄỆỈỊỌỎỐỒỔỖỘỚỜỞỠỢỤỦỨỪ'\n",
    "                  r'ỬỮỰỲỴÝỶỸỳỵýỷỹ]', '', text)  # Loại bỏ ký tự đặc biệt nhưng giữ lại dấu tiếng Việt\n",
    "    text = re.sub(r'\\s+', ' ', text)  # Loại bỏ khoảng trắng thừa\n",
    "    text = text.lower()\n",
    "    return text.strip()\n"
   ]
  },
  {
   "cell_type": "code",
   "execution_count": 8,
   "metadata": {},
   "outputs": [
    {
     "name": "stdout",
     "output_type": "stream",
     "text": [
      "Các em học sinh thân mến!\n",
      "Chúng tôi biên soạn Bài tập Tiếng Anh 8 – Không đáp án trên cơ sở bám sát Chương trình môn Tiếng Anh được ban hành kèm theo Thông tư số 32/2008/TT-BGDĐT ngày 26/12/2018, và sách giáo khoa Tiếng Anh 8 mới, được giảng dạy đại trà từ năm học 2023-2024.\n",
      "Bài tập Tiếng Anh 8 – Không đáp án gồm một bài ôn tập củng cố kiến thức đã học (Starter Unit), và 8 đơn vị bài học chính: Fads and fashions, Sensations, Adventure, Material world, Years ahead, Learn, Big ideas, On screen và sau mỗi đơn vị bài học đều có bài ôn tập Review.\n",
      "Bài tập dành cho mỗi đơn vị bài học chính gồm 6 phần: Vocabulary, Language focus, Reading, Pronunciation, Speaking, và Writing.\n",
      "Các bài Review (Vocabulary, Language focus, Reading, Speaking và Writing) giúp học sinh tự kiểm tra những nội dung kiến thức và rèn luyện các kĩ năng sau mỗi đơn vị bài học.\n",
      "Các bài tập trong Bài tập Tiếng Anh 8 – Không đáp án đa dạng, phong phú, bám sát từ vựng, ngữ pháp và chủ đề trong sách giáo khoa tiếng Anh theo chương trình mới.\n",
      "Chúng tôi hi vọng rằng Bài tập Tiếng Anh 8 – Không đáp án sẽ là một tài liệu tự học hữu ích cũng như một phương tiện hỗ trợ tốt cho việc rèn luyện, nâng cao trình độ Tiếng Anh cho học sinh lớp 8.\n",
      "Mặc dù đã có nhiều cố gắng trong việc biên soạn, song khó tránh khỏi thiếu sót. Chúng tôi rất mong nhận được những đóng góp quý báu của các bạn đồng nghiệp và các em học sinh để cuốn sách càng hoàn thiện hơn.\n",
      "nhà xuất bản : đại học sư phạm\n",
      "năm xuất bản : 2023\n",
      "trang : 302\n",
      "tác giả: lưu hoằng trí\n",
      "nhà phát hành : nhà sách hồng ân Giá sản phẩm trên Tiki đã bao gồm thuế theo luật hiện hành. Bên cạnh đó, tuỳ vào loại sản phẩm, hình thức và địa chỉ giao hàng mà có thể phát sinh thêm chi phí khác như phí vận chuyển, phụ phí hàng cồng kềnh, thuế nhập khẩu (đối với đơn hàng giao từ nước ngoài có giá trị trên 1 triệu đồng).....\n"
     ]
    }
   ],
   "source": [
    "text = df['description'][0]\n",
    "print(text)"
   ]
  },
  {
   "cell_type": "code",
   "execution_count": 9,
   "metadata": {},
   "outputs": [
    {
     "name": "stdout",
     "output_type": "stream",
     "text": [
      "các em học sinh thân mến chúng tôi biên soạn bài tập tiếng anh không đáp án trên cơ sở bám sát chương trình môn tiếng anh được ban hành kèm theo thông tư số ttbgdđt ngày và sách giáo khoa tiếng anh mới được giảng dạy đại trà từ năm học bài tập tiếng anh không đáp án gồm một bài ôn tập củng cố kiến thức đã học starter unit và đơn vị bài học chính fads and fashions sensations adventure material world years ahead learn big ideas on screen và sau mỗi đơn vị bài học đều có bài ôn tập review bài tập dành cho mỗi đơn vị bài học chính gồm phần vocabulary language focus reading pronunciation speaking và writing các bài review vocabulary language focus reading speaking và writing giúp học sinh tự kiểm tra những nội dung kiến thức và rèn luyện các kĩ năng sau mỗi đơn vị bài học các bài tập trong bài tập tiếng anh không đáp án đa dạng phong phú bám sát từ vựng ngữ pháp và chủ đề trong sách giáo khoa tiếng anh theo chương trình mới chúng tôi hi vọng rằng bài tập tiếng anh không đáp án sẽ là một tài liệu tự học hữu ích cũng như một phương tiện hỗ trợ tốt cho việc rèn luyện nâng cao trình độ tiếng anh cho học sinh lớp mặc dù đã có nhiều cố gắng trong việc biên soạn song khó tránh khỏi thiếu sót chúng tôi rất mong nhận được những đóng góp quý báu của các bạn đồng nghiệp và các em học sinh để cuốn sách càng hoàn thiện hơn nhà xuất bản đại học sư phạm năm xuất bản trang tác giả lưu hoằng trí nhà phát hành nhà sách hồng ân giá sản phẩm trên tiki đã bao gồm thuế theo luật hiện hành bên cạnh đó tuỳ vào loại sản phẩm hình thức và địa chỉ giao hàng mà có thể phát sinh thêm chi phí khác như phí vận chuyển phụ phí hàng cồng kềnh thuế nhập khẩu đối với đơn hàng giao từ nước ngoài có giá trị trên triệu đồng\n"
     ]
    }
   ],
   "source": [
    "text_remove_special_characters = remove_numbers_and_special_chars(text)\n",
    "print(text_remove_special_characters)"
   ]
  },
  {
   "cell_type": "code",
   "execution_count": 10,
   "metadata": {},
   "outputs": [],
   "source": [
    "def clean_text(text: str, stopwords: list):\n",
    "    \"\"\"\n",
    "    Xử lý văn bản tiếng Việt: Loại bỏ các ký tự không mong muốn và stopwords dạng từ đơn hoặc cụm từ.\n",
    "    \"\"\"\n",
    "    # laoij bo cac ký tự đặc biệt\n",
    "    text = remove_numbers_and_special_chars(text)\n",
    "    # Loại bỏ các ký tự đặc biệt nhưng giữ lại dấu tiếng Việt\n",
    "    text = re.sub(r'[^\\w\\s]', '', text)\n",
    "\n",
    "    # Đưa về chữ thường\n",
    "    text = text.lower()\n",
    "\n",
    "    # Loại bỏ stopwords\n",
    "    for stopword in stopwords:\n",
    "        # Sử dụng re.sub để loại bỏ stopword (dạng từ hoặc cụm từ) khỏi văn bản\n",
    "        pattern = r'\\b' + re.escape(stopword) + r'\\b'\n",
    "        text = re.sub(pattern, '', text)\n",
    "\n",
    "    # Loại bỏ khoảng trắng thừa do việc loại bỏ stopwords\n",
    "    text = re.sub(r'\\s+', ' ', text).strip()\n",
    "\n",
    "    return text"
   ]
  },
  {
   "cell_type": "code",
   "execution_count": 11,
   "metadata": {},
   "outputs": [],
   "source": [
    "clean_tex_ = clean_text(text, stopWord)"
   ]
  },
  {
   "cell_type": "code",
   "execution_count": 13,
   "metadata": {},
   "outputs": [],
   "source": [
    "df['description'] = df['description'].apply(lambda x: clean_text(x, stopWord))"
   ]
  },
  {
   "cell_type": "code",
   "execution_count": 14,
   "metadata": {},
   "outputs": [],
   "source": [
    "df['short_description'] = df['short_description'].apply(lambda x: clean_text(x, stopWord))"
   ]
  },
  {
   "cell_type": "code",
   "execution_count": 15,
   "metadata": {},
   "outputs": [],
   "source": [
    "df['text_overview'] = df[['name', 'type', 'short_description', 'description']].agg(' '.join, axis=1)"
   ]
  },
  {
   "cell_type": "code",
   "execution_count": 16,
   "metadata": {},
   "outputs": [
    {
     "name": "stdout",
     "output_type": "stream",
     "text": [
      "Bảng trắng có chân gấp Flipchart F3 PolyTaiwan 60x100cm\n",
      "simple\n",
      "bảng trắng chân gấp flipchart thương hiệu bảng viết bavico chuyên sản xuất bảng viết việt nam sản phẩm bảng trắng chân gấp tinh tế tiện dụng hàng ưu chu\n",
      "bảng trắng chân gấp flipchart thương hiệu bảng viết bavico chuyên sản xuất bảng viết việt nam sản phẩm bảng trắng chân gấp tinh tế tiện dụng hàng ưu chuộng bảng trắng mặt bảng trắng mặt bảng trắng viết bút lông poly taiwan viết bút lông lau sạch bóng vết mực kẻ ô ly lót bảng ván mdf ép giấy bóng vân gỗ chống ẩm chống cong mo bảng viết rung nhựa dầy ly chống chống cong mo khungbo bảng nhôm việt nhật chuyên dụng chống oxy hóa co góc bốn góc bảng co nhựa màu trắng sữa hài hòa chống trầy xước máng đựng bút nhôm chuyên dụng cm hai đầu co nhựa bảng gắn kẹp giấy inox bóng chống rỉ sétchân bảng trắng sắt sơn tĩnh điện chống sét chống trầy chân bảng xếp gọn phép chỉnh bảng chiều chân bảng gắn bánh xe taiwan di cố định dànggiá sản phẩm tiki bao thuế luật hiện hành cạnh tuỳ sản phẩm hình thức địa giao hàng thể phát sinh chi phí phí vận phụ phí hàng cồng kềnh thuế nhập khẩu đối đơn hàng giao triệu đồngsản phẩm tài sản hàng đối tượng thuế gtgt hoá đơn vat cung trường hợp\n",
      "================\n",
      "Bảng trắng có chân gấp Flipchart F3 PolyTaiwan 60x100cm simple bảng trắng chân gấp flipchart thương hiệu bảng viết bavico chuyên sản xuất bảng viết việt nam sản phẩm bảng trắng chân gấp tinh tế tiện dụng hàng ưu chu bảng trắng chân gấp flipchart thương hiệu bảng viết bavico chuyên sản xuất bảng viết việt nam sản phẩm bảng trắng chân gấp tinh tế tiện dụng hàng ưu chuộng bảng trắng mặt bảng trắng mặt bảng trắng viết bút lông poly taiwan viết bút lông lau sạch bóng vết mực kẻ ô ly lót bảng ván mdf ép giấy bóng vân gỗ chống ẩm chống cong mo bảng viết rung nhựa dầy ly chống chống cong mo khungbo bảng nhôm việt nhật chuyên dụng chống oxy hóa co góc bốn góc bảng co nhựa màu trắng sữa hài hòa chống trầy xước máng đựng bút nhôm chuyên dụng cm hai đầu co nhựa bảng gắn kẹp giấy inox bóng chống rỉ sétchân bảng trắng sắt sơn tĩnh điện chống sét chống trầy chân bảng xếp gọn phép chỉnh bảng chiều chân bảng gắn bánh xe taiwan di cố định dànggiá sản phẩm tiki bao thuế luật hiện hành cạnh tuỳ sản phẩm hình thức địa giao hàng thể phát sinh chi phí phí vận phụ phí hàng cồng kềnh thuế nhập khẩu đối đơn hàng giao triệu đồngsản phẩm tài sản hàng đối tượng thuế gtgt hoá đơn vat cung trường hợp\n"
     ]
    }
   ],
   "source": [
    "print(df['name'][1])\n",
    "print(df['type'][1])\n",
    "print(df['short_description'][1])\n",
    "print(df['description'][1])\n",
    "print(\"================\")\n",
    "print(df['text_overview'][1])"
   ]
  },
  {
   "cell_type": "code",
   "execution_count": 19,
   "metadata": {},
   "outputs": [],
   "source": [
    "def calculate_tfidf(corpus):\n",
    "    \"\"\"\n",
    "    Tính toán TF-IDF cho một tập các văn bản (corpus) và trả về các từ quan trọng.\n",
    "    \"\"\"\n",
    "    # Khởi tạo vectorizer với giá trị TF-IDF\n",
    "    vectorizer = TfidfVectorizer()\n",
    "\n",
    "    # Tính toán TF-IDF cho toàn bộ corpus\n",
    "    X = vectorizer.fit_transform(corpus)\n",
    "\n",
    "    # Lấy ra các từ tương ứng với các cột trong ma trận TF-IDF\n",
    "    feature_names = vectorizer.get_feature_names_out()\n",
    "\n",
    "    # Trả về ma trận TF-IDF và danh sách các từ\n",
    "    return X, feature_names\n",
    "\n",
    "def filter_important_words(texts, X, feature_names, threshold=0.1):\n",
    "    \"\"\"\n",
    "    Loại bỏ những từ không quan trọng dựa trên giá trị TF-IDF (threshold là ngưỡng để loại bỏ từ).\n",
    "    Trả về văn bản hoàn chỉnh sau khi lọc từ không quan trọng.\n",
    "    \"\"\"\n",
    "    important_texts = []\n",
    "    \n",
    "    for doc_index, text in enumerate(texts):\n",
    "        # Tách từ trong văn bản\n",
    "        words = text.split()\n",
    "\n",
    "        # Lấy ra các giá trị TF-IDF tương ứng của văn bản hiện tại\n",
    "        doc_tfidf = X[doc_index].toarray().flatten()\n",
    "\n",
    "        # Giữ lại những từ có giá trị TF-IDF cao hơn threshold\n",
    "        important_words = [\n",
    "            word for word in words if word in feature_names and doc_tfidf[feature_names.tolist().index(word)] > threshold\n",
    "        ]\n",
    "\n",
    "        # Ghép lại các từ thành văn bản hoàn chỉnh\n",
    "        # important_texts.append(\" \".join(important_words))\n",
    "\n",
    "    return important_words"
   ]
  },
  {
   "cell_type": "code",
   "execution_count": 27,
   "metadata": {},
   "outputs": [
    {
     "name": "stdout",
     "output_type": "stream",
     "text": [
      "=======\n",
      "\n",
      "--------\n",
      "\n"
     ]
    }
   ],
   "source": [
    "corpus = df['description'].tolist()\n",
    "print(\"=======\\n\")\n",
    "X, feature_names = calculate_tfidf(corpus)\n",
    "print(\"--------\\n\")\n",
    "# Lọc các từ quan trọng\n",
    "important_texts = filter_important_words(corpus, X, feature_names, threshold=0.1)"
   ]
  },
  {
   "cell_type": "code",
   "execution_count": 30,
   "metadata": {},
   "outputs": [],
   "source": [
    "def remove_words(text, words_to_remove):\n",
    "    \"\"\"\n",
    "    Loại bỏ các từ trong danh sách words_to_remove khỏi đoạn văn bản text.\n",
    "    \"\"\"\n",
    "    # Tách văn bản thành danh sách các từ\n",
    "    words = text.split()\n",
    "    \n",
    "    # Loại bỏ các từ có trong danh sách words_to_remove\n",
    "    filtered_words = [word for word in words if word.lower() not in words_to_remove]\n",
    "    \n",
    "    # Ghép lại các từ thành một chuỗi văn bản\n",
    "    filtered_text = \" \".join(filtered_words)\n",
    "    \n",
    "    return filtered_text"
   ]
  },
  {
   "cell_type": "code",
   "execution_count": 31,
   "metadata": {},
   "outputs": [],
   "source": [
    "df['overview'] = df['description'].apply(lambda x: remove_words(x, important_texts))"
   ]
  },
  {
   "cell_type": "code",
   "execution_count": 32,
   "metadata": {},
   "outputs": [
    {
     "data": {
      "text/html": [
       "<div>\n",
       "<style scoped>\n",
       "    .dataframe tbody tr th:only-of-type {\n",
       "        vertical-align: middle;\n",
       "    }\n",
       "\n",
       "    .dataframe tbody tr th {\n",
       "        vertical-align: top;\n",
       "    }\n",
       "\n",
       "    .dataframe thead th {\n",
       "        text-align: right;\n",
       "    }\n",
       "</style>\n",
       "<table border=\"1\" class=\"dataframe\">\n",
       "  <thead>\n",
       "    <tr style=\"text-align: right;\">\n",
       "      <th></th>\n",
       "      <th>description</th>\n",
       "      <th>overview</th>\n",
       "    </tr>\n",
       "  </thead>\n",
       "  <tbody>\n",
       "    <tr>\n",
       "      <th>0</th>\n",
       "      <td>học sinh thân mến biên soạn tập tiếng đáp án s...</td>\n",
       "      <td>học sinh thân mến biên soạn tập tiếng đáp án s...</td>\n",
       "    </tr>\n",
       "    <tr>\n",
       "      <th>1</th>\n",
       "      <td>bảng trắng chân gấp flipchart thương hiệu bảng...</td>\n",
       "      <td>bảng trắng chân gấp flipchart thương hiệu bảng...</td>\n",
       "    </tr>\n",
       "    <tr>\n",
       "      <th>2</th>\n",
       "      <td>biến kế toán khô khan trò trẻ áp dụng bao cầm ...</td>\n",
       "      <td>biến kế toán khô khan trò trẻ áp dụng bao cầm ...</td>\n",
       "    </tr>\n",
       "    <tr>\n",
       "      <th>3</th>\n",
       "      <td>thông tác phẩm tác phẩm combo tư ngược tư tác ...</td>\n",
       "      <td>thông tác phẩm tác phẩm combo tư ngược tư tác ...</td>\n",
       "    </tr>\n",
       "    <tr>\n",
       "      <th>4</th>\n",
       "      <td>thông tác phẩm tác phẩm combo tư ngược tư tác ...</td>\n",
       "      <td>thông tác phẩm tác phẩm combo tư ngược tư tác ...</td>\n",
       "    </tr>\n",
       "    <tr>\n",
       "      <th>...</th>\n",
       "      <td>...</td>\n",
       "      <td>...</td>\n",
       "    </tr>\n",
       "    <tr>\n",
       "      <th>779</th>\n",
       "      <td>tác giả tác giả xuất nxb đại học sư phạm trang...</td>\n",
       "      <td>tác giả tác giả xuất nxb đại học sư phạm trang...</td>\n",
       "    </tr>\n",
       "    <tr>\n",
       "      <th>780</th>\n",
       "      <td>thông tác giả song hong binh tống hồng binh si...</td>\n",
       "      <td>thông tác giả song hong binh tống hồng binh si...</td>\n",
       "    </tr>\n",
       "    <tr>\n",
       "      <th>781</th>\n",
       "      <td>phân tích chứng khoán sách tài ảnh hưởng giới ...</td>\n",
       "      <td>phân tích chứng khoán sách tài ảnh hưởng giới ...</td>\n",
       "    </tr>\n",
       "    <tr>\n",
       "      <th>782</th>\n",
       "      <td>hai mèo cửa sổ nhân vật gấu nhân vật hai tí ho...</td>\n",
       "      <td>hai mèo cửa sổ nhân vật gấu nhân vật hai tí ho...</td>\n",
       "    </tr>\n",
       "    <tr>\n",
       "      <th>783</th>\n",
       "      <td>ngài willy wonka sản xuất sôcôla lạ lùng kì qu...</td>\n",
       "      <td>sản xuất lạ lùng quái phi giới chuyến phiêu lư...</td>\n",
       "    </tr>\n",
       "  </tbody>\n",
       "</table>\n",
       "<p>784 rows × 2 columns</p>\n",
       "</div>"
      ],
      "text/plain": [
       "                                           description  \\\n",
       "0    học sinh thân mến biên soạn tập tiếng đáp án s...   \n",
       "1    bảng trắng chân gấp flipchart thương hiệu bảng...   \n",
       "2    biến kế toán khô khan trò trẻ áp dụng bao cầm ...   \n",
       "3    thông tác phẩm tác phẩm combo tư ngược tư tác ...   \n",
       "4    thông tác phẩm tác phẩm combo tư ngược tư tác ...   \n",
       "..                                                 ...   \n",
       "779  tác giả tác giả xuất nxb đại học sư phạm trang...   \n",
       "780  thông tác giả song hong binh tống hồng binh si...   \n",
       "781  phân tích chứng khoán sách tài ảnh hưởng giới ...   \n",
       "782  hai mèo cửa sổ nhân vật gấu nhân vật hai tí ho...   \n",
       "783  ngài willy wonka sản xuất sôcôla lạ lùng kì qu...   \n",
       "\n",
       "                                              overview  \n",
       "0    học sinh thân mến biên soạn tập tiếng đáp án s...  \n",
       "1    bảng trắng chân gấp flipchart thương hiệu bảng...  \n",
       "2    biến kế toán khô khan trò trẻ áp dụng bao cầm ...  \n",
       "3    thông tác phẩm tác phẩm combo tư ngược tư tác ...  \n",
       "4    thông tác phẩm tác phẩm combo tư ngược tư tác ...  \n",
       "..                                                 ...  \n",
       "779  tác giả tác giả xuất nxb đại học sư phạm trang...  \n",
       "780  thông tác giả song hong binh tống hồng binh si...  \n",
       "781  phân tích chứng khoán sách tài ảnh hưởng giới ...  \n",
       "782  hai mèo cửa sổ nhân vật gấu nhân vật hai tí ho...  \n",
       "783  sản xuất lạ lùng quái phi giới chuyến phiêu lư...  \n",
       "\n",
       "[784 rows x 2 columns]"
      ]
     },
     "execution_count": 32,
     "metadata": {},
     "output_type": "execute_result"
    }
   ],
   "source": [
    "df[['description', 'overview']]"
   ]
  },
  {
   "cell_type": "code",
   "execution_count": 33,
   "metadata": {},
   "outputs": [
    {
     "name": "stderr",
     "output_type": "stream",
     "text": [
      "d:\\WorkSpace\\RAG\\MyVenv\\lib\\site-packages\\sentence_transformers\\cross_encoder\\CrossEncoder.py:13: TqdmWarning: IProgress not found. Please update jupyter and ipywidgets. See https://ipywidgets.readthedocs.io/en/stable/user_install.html\n",
      "  from tqdm.autonotebook import tqdm, trange\n"
     ]
    }
   ],
   "source": [
    "from sentence_transformers import SentenceTransformer\n",
    "\n",
    "# Load pre-trained Sentence Transformer model\n",
    "embedding_model = SentenceTransformer(\"thenlper/gte-large\")\n",
    "\n",
    "def get_embedding(text: str) -> list[float]:\n",
    "    if not text.strip():\n",
    "        print(\"Attempting to get embedding\")\n",
    "        return []\n",
    "    embeddings = embedding_model.encode([text])\n",
    "    return embeddings.tolist()"
   ]
  },
  {
   "cell_type": "code",
   "execution_count": 36,
   "metadata": {},
   "outputs": [],
   "source": [
    "df['embedding'] = df['description'].apply(lambda x: get_embedding(x))"
   ]
  },
  {
   "cell_type": "code",
   "execution_count": 37,
   "metadata": {},
   "outputs": [
    {
     "data": {
      "text/plain": [
       "Index(['_id', 'id', 'name', 'type', 'current_seller', 'images', 'short_url',\n",
       "       'thumbnail_url', 'short_description', 'description', 'rating_average',\n",
       "       'quantity_sold', 'embedding', 'text_overview', 'overview'],\n",
       "      dtype='object')"
      ]
     },
     "execution_count": 37,
     "metadata": {},
     "output_type": "execute_result"
    }
   ],
   "source": [
    "df.columns"
   ]
  },
  {
   "cell_type": "code",
   "execution_count": 39,
   "metadata": {},
   "outputs": [],
   "source": [
    "df_dict = df[['id', 'name', 'type', 'current_seller', 'images', 'short_url',\n",
    "       'thumbnail_url', 'short_description', 'description', 'rating_average',\n",
    "       'quantity_sold', 'embedding', ]].to_dict('records')"
   ]
  },
  {
   "cell_type": "code",
   "execution_count": 41,
   "metadata": {},
   "outputs": [
    {
     "data": {
      "text/plain": [
       "InsertManyResult([ObjectId('67069f4bb9def1690c530b9e'), ObjectId('67069f4bb9def1690c530b9f'), ObjectId('67069f4bb9def1690c530ba0'), ObjectId('67069f4bb9def1690c530ba1'), ObjectId('67069f4bb9def1690c530ba2'), ObjectId('67069f4bb9def1690c530ba3'), ObjectId('67069f4bb9def1690c530ba4'), ObjectId('67069f4bb9def1690c530ba5'), ObjectId('67069f4bb9def1690c530ba6'), ObjectId('67069f4bb9def1690c530ba7'), ObjectId('67069f4bb9def1690c530ba8'), ObjectId('67069f4bb9def1690c530ba9'), ObjectId('67069f4bb9def1690c530baa'), ObjectId('67069f4bb9def1690c530bab'), ObjectId('67069f4bb9def1690c530bac'), ObjectId('67069f4bb9def1690c530bad'), ObjectId('67069f4bb9def1690c530bae'), ObjectId('67069f4bb9def1690c530baf'), ObjectId('67069f4bb9def1690c530bb0'), ObjectId('67069f4bb9def1690c530bb1'), ObjectId('67069f4bb9def1690c530bb2'), ObjectId('67069f4bb9def1690c530bb3'), ObjectId('67069f4bb9def1690c530bb4'), ObjectId('67069f4bb9def1690c530bb5'), ObjectId('67069f4bb9def1690c530bb6'), ObjectId('67069f4bb9def1690c530bb7'), ObjectId('67069f4bb9def1690c530bb8'), ObjectId('67069f4bb9def1690c530bb9'), ObjectId('67069f4bb9def1690c530bba'), ObjectId('67069f4bb9def1690c530bbb'), ObjectId('67069f4bb9def1690c530bbc'), ObjectId('67069f4bb9def1690c530bbd'), ObjectId('67069f4bb9def1690c530bbe'), ObjectId('67069f4bb9def1690c530bbf'), ObjectId('67069f4bb9def1690c530bc0'), ObjectId('67069f4bb9def1690c530bc1'), ObjectId('67069f4bb9def1690c530bc2'), ObjectId('67069f4bb9def1690c530bc3'), ObjectId('67069f4bb9def1690c530bc4'), ObjectId('67069f4bb9def1690c530bc5'), ObjectId('67069f4bb9def1690c530bc6'), ObjectId('67069f4bb9def1690c530bc7'), ObjectId('67069f4bb9def1690c530bc8'), ObjectId('67069f4bb9def1690c530bc9'), ObjectId('67069f4bb9def1690c530bca'), ObjectId('67069f4bb9def1690c530bcb'), ObjectId('67069f4bb9def1690c530bcc'), ObjectId('67069f4bb9def1690c530bcd'), ObjectId('67069f4bb9def1690c530bce'), ObjectId('67069f4bb9def1690c530bcf'), ObjectId('67069f4bb9def1690c530bd0'), ObjectId('67069f4bb9def1690c530bd1'), ObjectId('67069f4bb9def1690c530bd2'), ObjectId('67069f4bb9def1690c530bd3'), ObjectId('67069f4bb9def1690c530bd4'), ObjectId('67069f4bb9def1690c530bd5'), ObjectId('67069f4bb9def1690c530bd6'), ObjectId('67069f4bb9def1690c530bd7'), ObjectId('67069f4bb9def1690c530bd8'), ObjectId('67069f4bb9def1690c530bd9'), ObjectId('67069f4bb9def1690c530bda'), ObjectId('67069f4bb9def1690c530bdb'), ObjectId('67069f4bb9def1690c530bdc'), ObjectId('67069f4bb9def1690c530bdd'), ObjectId('67069f4bb9def1690c530bde'), ObjectId('67069f4bb9def1690c530bdf'), ObjectId('67069f4bb9def1690c530be0'), ObjectId('67069f4bb9def1690c530be1'), ObjectId('67069f4bb9def1690c530be2'), ObjectId('67069f4bb9def1690c530be3'), ObjectId('67069f4bb9def1690c530be4'), ObjectId('67069f4bb9def1690c530be5'), ObjectId('67069f4bb9def1690c530be6'), ObjectId('67069f4bb9def1690c530be7'), ObjectId('67069f4bb9def1690c530be8'), ObjectId('67069f4bb9def1690c530be9'), ObjectId('67069f4bb9def1690c530bea'), ObjectId('67069f4bb9def1690c530beb'), ObjectId('67069f4bb9def1690c530bec'), ObjectId('67069f4bb9def1690c530bed'), ObjectId('67069f4bb9def1690c530bee'), ObjectId('67069f4bb9def1690c530bef'), ObjectId('67069f4bb9def1690c530bf0'), ObjectId('67069f4bb9def1690c530bf1'), ObjectId('67069f4bb9def1690c530bf2'), ObjectId('67069f4bb9def1690c530bf3'), ObjectId('67069f4bb9def1690c530bf4'), ObjectId('67069f4bb9def1690c530bf5'), ObjectId('67069f4bb9def1690c530bf6'), ObjectId('67069f4bb9def1690c530bf7'), ObjectId('67069f4bb9def1690c530bf8'), ObjectId('67069f4bb9def1690c530bf9'), ObjectId('67069f4bb9def1690c530bfa'), ObjectId('67069f4bb9def1690c530bfb'), ObjectId('67069f4bb9def1690c530bfc'), ObjectId('67069f4bb9def1690c530bfd'), ObjectId('67069f4bb9def1690c530bfe'), ObjectId('67069f4bb9def1690c530bff'), ObjectId('67069f4bb9def1690c530c00'), ObjectId('67069f4bb9def1690c530c01'), ObjectId('67069f4bb9def1690c530c02'), ObjectId('67069f4bb9def1690c530c03'), ObjectId('67069f4bb9def1690c530c04'), ObjectId('67069f4bb9def1690c530c05'), ObjectId('67069f4bb9def1690c530c06'), ObjectId('67069f4bb9def1690c530c07'), ObjectId('67069f4bb9def1690c530c08'), ObjectId('67069f4bb9def1690c530c09'), ObjectId('67069f4bb9def1690c530c0a'), ObjectId('67069f4bb9def1690c530c0b'), ObjectId('67069f4bb9def1690c530c0c'), ObjectId('67069f4bb9def1690c530c0d'), ObjectId('67069f4bb9def1690c530c0e'), ObjectId('67069f4bb9def1690c530c0f'), ObjectId('67069f4bb9def1690c530c10'), ObjectId('67069f4bb9def1690c530c11'), ObjectId('67069f4bb9def1690c530c12'), ObjectId('67069f4bb9def1690c530c13'), ObjectId('67069f4bb9def1690c530c14'), ObjectId('67069f4bb9def1690c530c15'), ObjectId('67069f4bb9def1690c530c16'), ObjectId('67069f4bb9def1690c530c17'), ObjectId('67069f4bb9def1690c530c18'), ObjectId('67069f4bb9def1690c530c19'), ObjectId('67069f4bb9def1690c530c1a'), ObjectId('67069f4bb9def1690c530c1b'), ObjectId('67069f4bb9def1690c530c1c'), ObjectId('67069f4bb9def1690c530c1d'), ObjectId('67069f4bb9def1690c530c1e'), ObjectId('67069f4bb9def1690c530c1f'), ObjectId('67069f4bb9def1690c530c20'), ObjectId('67069f4bb9def1690c530c21'), ObjectId('67069f4bb9def1690c530c22'), ObjectId('67069f4bb9def1690c530c23'), ObjectId('67069f4bb9def1690c530c24'), ObjectId('67069f4bb9def1690c530c25'), ObjectId('67069f4bb9def1690c530c26'), ObjectId('67069f4bb9def1690c530c27'), ObjectId('67069f4bb9def1690c530c28'), ObjectId('67069f4bb9def1690c530c29'), ObjectId('67069f4bb9def1690c530c2a'), ObjectId('67069f4bb9def1690c530c2b'), ObjectId('67069f4bb9def1690c530c2c'), ObjectId('67069f4bb9def1690c530c2d'), ObjectId('67069f4bb9def1690c530c2e'), ObjectId('67069f4bb9def1690c530c2f'), ObjectId('67069f4bb9def1690c530c30'), ObjectId('67069f4bb9def1690c530c31'), ObjectId('67069f4bb9def1690c530c32'), ObjectId('67069f4bb9def1690c530c33'), ObjectId('67069f4bb9def1690c530c34'), ObjectId('67069f4bb9def1690c530c35'), ObjectId('67069f4bb9def1690c530c36'), ObjectId('67069f4bb9def1690c530c37'), ObjectId('67069f4bb9def1690c530c38'), ObjectId('67069f4bb9def1690c530c39'), ObjectId('67069f4bb9def1690c530c3a'), ObjectId('67069f4bb9def1690c530c3b'), ObjectId('67069f4bb9def1690c530c3c'), ObjectId('67069f4bb9def1690c530c3d'), ObjectId('67069f4bb9def1690c530c3e'), ObjectId('67069f4bb9def1690c530c3f'), ObjectId('67069f4bb9def1690c530c40'), ObjectId('67069f4bb9def1690c530c41'), ObjectId('67069f4bb9def1690c530c42'), ObjectId('67069f4bb9def1690c530c43'), ObjectId('67069f4bb9def1690c530c44'), ObjectId('67069f4bb9def1690c530c45'), ObjectId('67069f4bb9def1690c530c46'), ObjectId('67069f4bb9def1690c530c47'), ObjectId('67069f4bb9def1690c530c48'), ObjectId('67069f4bb9def1690c530c49'), ObjectId('67069f4bb9def1690c530c4a'), ObjectId('67069f4bb9def1690c530c4b'), ObjectId('67069f4bb9def1690c530c4c'), ObjectId('67069f4bb9def1690c530c4d'), ObjectId('67069f4bb9def1690c530c4e'), ObjectId('67069f4bb9def1690c530c4f'), ObjectId('67069f4bb9def1690c530c50'), ObjectId('67069f4bb9def1690c530c51'), ObjectId('67069f4bb9def1690c530c52'), ObjectId('67069f4bb9def1690c530c53'), ObjectId('67069f4bb9def1690c530c54'), ObjectId('67069f4bb9def1690c530c55'), ObjectId('67069f4bb9def1690c530c56'), ObjectId('67069f4bb9def1690c530c57'), ObjectId('67069f4bb9def1690c530c58'), ObjectId('67069f4bb9def1690c530c59'), ObjectId('67069f4bb9def1690c530c5a'), ObjectId('67069f4bb9def1690c530c5b'), ObjectId('67069f4bb9def1690c530c5c'), ObjectId('67069f4bb9def1690c530c5d'), ObjectId('67069f4bb9def1690c530c5e'), ObjectId('67069f4bb9def1690c530c5f'), ObjectId('67069f4bb9def1690c530c60'), ObjectId('67069f4bb9def1690c530c61'), ObjectId('67069f4bb9def1690c530c62'), ObjectId('67069f4bb9def1690c530c63'), ObjectId('67069f4bb9def1690c530c64'), ObjectId('67069f4bb9def1690c530c65'), ObjectId('67069f4bb9def1690c530c66'), ObjectId('67069f4bb9def1690c530c67'), ObjectId('67069f4bb9def1690c530c68'), ObjectId('67069f4bb9def1690c530c69'), ObjectId('67069f4bb9def1690c530c6a'), ObjectId('67069f4bb9def1690c530c6b'), ObjectId('67069f4bb9def1690c530c6c'), ObjectId('67069f4bb9def1690c530c6d'), ObjectId('67069f4bb9def1690c530c6e'), ObjectId('67069f4bb9def1690c530c6f'), ObjectId('67069f4bb9def1690c530c70'), ObjectId('67069f4bb9def1690c530c71'), ObjectId('67069f4bb9def1690c530c72'), ObjectId('67069f4bb9def1690c530c73'), ObjectId('67069f4bb9def1690c530c74'), ObjectId('67069f4bb9def1690c530c75'), ObjectId('67069f4bb9def1690c530c76'), ObjectId('67069f4bb9def1690c530c77'), ObjectId('67069f4bb9def1690c530c78'), ObjectId('67069f4bb9def1690c530c79'), ObjectId('67069f4bb9def1690c530c7a'), ObjectId('67069f4bb9def1690c530c7b'), ObjectId('67069f4bb9def1690c530c7c'), ObjectId('67069f4bb9def1690c530c7d'), ObjectId('67069f4bb9def1690c530c7e'), ObjectId('67069f4bb9def1690c530c7f'), ObjectId('67069f4bb9def1690c530c80'), ObjectId('67069f4bb9def1690c530c81'), ObjectId('67069f4bb9def1690c530c82'), ObjectId('67069f4bb9def1690c530c83'), ObjectId('67069f4bb9def1690c530c84'), ObjectId('67069f4bb9def1690c530c85'), ObjectId('67069f4bb9def1690c530c86'), ObjectId('67069f4bb9def1690c530c87'), ObjectId('67069f4bb9def1690c530c88'), ObjectId('67069f4bb9def1690c530c89'), ObjectId('67069f4bb9def1690c530c8a'), ObjectId('67069f4bb9def1690c530c8b'), ObjectId('67069f4bb9def1690c530c8c'), ObjectId('67069f4bb9def1690c530c8d'), ObjectId('67069f4bb9def1690c530c8e'), ObjectId('67069f4bb9def1690c530c8f'), ObjectId('67069f4bb9def1690c530c90'), ObjectId('67069f4bb9def1690c530c91'), ObjectId('67069f4bb9def1690c530c92'), ObjectId('67069f4bb9def1690c530c93'), ObjectId('67069f4bb9def1690c530c94'), ObjectId('67069f4bb9def1690c530c95'), ObjectId('67069f4bb9def1690c530c96'), ObjectId('67069f4bb9def1690c530c97'), ObjectId('67069f4bb9def1690c530c98'), ObjectId('67069f4bb9def1690c530c99'), ObjectId('67069f4bb9def1690c530c9a'), ObjectId('67069f4bb9def1690c530c9b'), ObjectId('67069f4bb9def1690c530c9c'), ObjectId('67069f4bb9def1690c530c9d'), ObjectId('67069f4bb9def1690c530c9e'), ObjectId('67069f4bb9def1690c530c9f'), ObjectId('67069f4bb9def1690c530ca0'), ObjectId('67069f4bb9def1690c530ca1'), ObjectId('67069f4bb9def1690c530ca2'), ObjectId('67069f4bb9def1690c530ca3'), ObjectId('67069f4bb9def1690c530ca4'), ObjectId('67069f4bb9def1690c530ca5'), ObjectId('67069f4bb9def1690c530ca6'), ObjectId('67069f4bb9def1690c530ca7'), ObjectId('67069f4bb9def1690c530ca8'), ObjectId('67069f4bb9def1690c530ca9'), ObjectId('67069f4bb9def1690c530caa'), ObjectId('67069f4bb9def1690c530cab'), ObjectId('67069f4bb9def1690c530cac'), ObjectId('67069f4bb9def1690c530cad'), ObjectId('67069f4bb9def1690c530cae'), ObjectId('67069f4bb9def1690c530caf'), ObjectId('67069f4bb9def1690c530cb0'), ObjectId('67069f4bb9def1690c530cb1'), ObjectId('67069f4bb9def1690c530cb2'), ObjectId('67069f4bb9def1690c530cb3'), ObjectId('67069f4bb9def1690c530cb4'), ObjectId('67069f4bb9def1690c530cb5'), ObjectId('67069f4bb9def1690c530cb6'), ObjectId('67069f4bb9def1690c530cb7'), ObjectId('67069f4bb9def1690c530cb8'), ObjectId('67069f4bb9def1690c530cb9'), ObjectId('67069f4bb9def1690c530cba'), ObjectId('67069f4bb9def1690c530cbb'), ObjectId('67069f4bb9def1690c530cbc'), ObjectId('67069f4bb9def1690c530cbd'), ObjectId('67069f4bb9def1690c530cbe'), ObjectId('67069f4bb9def1690c530cbf'), ObjectId('67069f4bb9def1690c530cc0'), ObjectId('67069f4bb9def1690c530cc1'), ObjectId('67069f4bb9def1690c530cc2'), ObjectId('67069f4bb9def1690c530cc3'), ObjectId('67069f4bb9def1690c530cc4'), ObjectId('67069f4bb9def1690c530cc5'), ObjectId('67069f4bb9def1690c530cc6'), ObjectId('67069f4bb9def1690c530cc7'), ObjectId('67069f4bb9def1690c530cc8'), ObjectId('67069f4bb9def1690c530cc9'), ObjectId('67069f4bb9def1690c530cca'), ObjectId('67069f4bb9def1690c530ccb'), ObjectId('67069f4bb9def1690c530ccc'), ObjectId('67069f4bb9def1690c530ccd'), ObjectId('67069f4bb9def1690c530cce'), ObjectId('67069f4bb9def1690c530ccf'), ObjectId('67069f4bb9def1690c530cd0'), ObjectId('67069f4bb9def1690c530cd1'), ObjectId('67069f4bb9def1690c530cd2'), ObjectId('67069f4bb9def1690c530cd3'), ObjectId('67069f4bb9def1690c530cd4'), ObjectId('67069f4bb9def1690c530cd5'), ObjectId('67069f4bb9def1690c530cd6'), ObjectId('67069f4bb9def1690c530cd7'), ObjectId('67069f4bb9def1690c530cd8'), ObjectId('67069f4bb9def1690c530cd9'), ObjectId('67069f4bb9def1690c530cda'), ObjectId('67069f4bb9def1690c530cdb'), ObjectId('67069f4bb9def1690c530cdc'), ObjectId('67069f4bb9def1690c530cdd'), ObjectId('67069f4bb9def1690c530cde'), ObjectId('67069f4bb9def1690c530cdf'), ObjectId('67069f4bb9def1690c530ce0'), ObjectId('67069f4bb9def1690c530ce1'), ObjectId('67069f4bb9def1690c530ce2'), ObjectId('67069f4bb9def1690c530ce3'), ObjectId('67069f4bb9def1690c530ce4'), ObjectId('67069f4bb9def1690c530ce5'), ObjectId('67069f4bb9def1690c530ce6'), ObjectId('67069f4bb9def1690c530ce7'), ObjectId('67069f4bb9def1690c530ce8'), ObjectId('67069f4bb9def1690c530ce9'), ObjectId('67069f4bb9def1690c530cea'), ObjectId('67069f4bb9def1690c530ceb'), ObjectId('67069f4bb9def1690c530cec'), ObjectId('67069f4bb9def1690c530ced'), ObjectId('67069f4bb9def1690c530cee'), ObjectId('67069f4bb9def1690c530cef'), ObjectId('67069f4bb9def1690c530cf0'), ObjectId('67069f4bb9def1690c530cf1'), ObjectId('67069f4bb9def1690c530cf2'), ObjectId('67069f4bb9def1690c530cf3'), ObjectId('67069f4bb9def1690c530cf4'), ObjectId('67069f4bb9def1690c530cf5'), ObjectId('67069f4bb9def1690c530cf6'), ObjectId('67069f4bb9def1690c530cf7'), ObjectId('67069f4bb9def1690c530cf8'), ObjectId('67069f4bb9def1690c530cf9'), ObjectId('67069f4bb9def1690c530cfa'), ObjectId('67069f4bb9def1690c530cfb'), ObjectId('67069f4bb9def1690c530cfc'), ObjectId('67069f4bb9def1690c530cfd'), ObjectId('67069f4bb9def1690c530cfe'), ObjectId('67069f4bb9def1690c530cff'), ObjectId('67069f4bb9def1690c530d00'), ObjectId('67069f4bb9def1690c530d01'), ObjectId('67069f4bb9def1690c530d02'), ObjectId('67069f4bb9def1690c530d03'), ObjectId('67069f4bb9def1690c530d04'), ObjectId('67069f4bb9def1690c530d05'), ObjectId('67069f4bb9def1690c530d06'), ObjectId('67069f4bb9def1690c530d07'), ObjectId('67069f4bb9def1690c530d08'), ObjectId('67069f4bb9def1690c530d09'), ObjectId('67069f4bb9def1690c530d0a'), ObjectId('67069f4bb9def1690c530d0b'), ObjectId('67069f4bb9def1690c530d0c'), ObjectId('67069f4bb9def1690c530d0d'), ObjectId('67069f4bb9def1690c530d0e'), ObjectId('67069f4bb9def1690c530d0f'), ObjectId('67069f4bb9def1690c530d10'), ObjectId('67069f4bb9def1690c530d11'), ObjectId('67069f4bb9def1690c530d12'), ObjectId('67069f4bb9def1690c530d13'), ObjectId('67069f4bb9def1690c530d14'), ObjectId('67069f4bb9def1690c530d15'), ObjectId('67069f4bb9def1690c530d16'), ObjectId('67069f4bb9def1690c530d17'), ObjectId('67069f4bb9def1690c530d18'), ObjectId('67069f4bb9def1690c530d19'), ObjectId('67069f4bb9def1690c530d1a'), ObjectId('67069f4bb9def1690c530d1b'), ObjectId('67069f4bb9def1690c530d1c'), ObjectId('67069f4bb9def1690c530d1d'), ObjectId('67069f4bb9def1690c530d1e'), ObjectId('67069f4bb9def1690c530d1f'), ObjectId('67069f4bb9def1690c530d20'), ObjectId('67069f4bb9def1690c530d21'), ObjectId('67069f4bb9def1690c530d22'), ObjectId('67069f4bb9def1690c530d23'), ObjectId('67069f4bb9def1690c530d24'), ObjectId('67069f4bb9def1690c530d25'), ObjectId('67069f4bb9def1690c530d26'), ObjectId('67069f4bb9def1690c530d27'), ObjectId('67069f4bb9def1690c530d28'), ObjectId('67069f4bb9def1690c530d29'), ObjectId('67069f4bb9def1690c530d2a'), ObjectId('67069f4bb9def1690c530d2b'), ObjectId('67069f4bb9def1690c530d2c'), ObjectId('67069f4bb9def1690c530d2d'), ObjectId('67069f4bb9def1690c530d2e'), ObjectId('67069f4bb9def1690c530d2f'), ObjectId('67069f4bb9def1690c530d30'), ObjectId('67069f4bb9def1690c530d31'), ObjectId('67069f4bb9def1690c530d32'), ObjectId('67069f4bb9def1690c530d33'), ObjectId('67069f4bb9def1690c530d34'), ObjectId('67069f4bb9def1690c530d35'), ObjectId('67069f4bb9def1690c530d36'), ObjectId('67069f4bb9def1690c530d37'), ObjectId('67069f4bb9def1690c530d38'), ObjectId('67069f4bb9def1690c530d39'), ObjectId('67069f4bb9def1690c530d3a'), ObjectId('67069f4bb9def1690c530d3b'), ObjectId('67069f4bb9def1690c530d3c'), ObjectId('67069f4bb9def1690c530d3d'), ObjectId('67069f4bb9def1690c530d3e'), ObjectId('67069f4bb9def1690c530d3f'), ObjectId('67069f4bb9def1690c530d40'), ObjectId('67069f4bb9def1690c530d41'), ObjectId('67069f4bb9def1690c530d42'), ObjectId('67069f4bb9def1690c530d43'), ObjectId('67069f4bb9def1690c530d44'), ObjectId('67069f4bb9def1690c530d45'), ObjectId('67069f4bb9def1690c530d46'), ObjectId('67069f4bb9def1690c530d47'), ObjectId('67069f4bb9def1690c530d48'), ObjectId('67069f4bb9def1690c530d49'), ObjectId('67069f4bb9def1690c530d4a'), ObjectId('67069f4bb9def1690c530d4b'), ObjectId('67069f4bb9def1690c530d4c'), ObjectId('67069f4bb9def1690c530d4d'), ObjectId('67069f4bb9def1690c530d4e'), ObjectId('67069f4bb9def1690c530d4f'), ObjectId('67069f4bb9def1690c530d50'), ObjectId('67069f4bb9def1690c530d51'), ObjectId('67069f4bb9def1690c530d52'), ObjectId('67069f4bb9def1690c530d53'), ObjectId('67069f4bb9def1690c530d54'), ObjectId('67069f4bb9def1690c530d55'), ObjectId('67069f4bb9def1690c530d56'), ObjectId('67069f4bb9def1690c530d57'), ObjectId('67069f4bb9def1690c530d58'), ObjectId('67069f4bb9def1690c530d59'), ObjectId('67069f4bb9def1690c530d5a'), ObjectId('67069f4bb9def1690c530d5b'), ObjectId('67069f4bb9def1690c530d5c'), ObjectId('67069f4bb9def1690c530d5d'), ObjectId('67069f4bb9def1690c530d5e'), ObjectId('67069f4bb9def1690c530d5f'), ObjectId('67069f4bb9def1690c530d60'), ObjectId('67069f4bb9def1690c530d61'), ObjectId('67069f4bb9def1690c530d62'), ObjectId('67069f4bb9def1690c530d63'), ObjectId('67069f4bb9def1690c530d64'), ObjectId('67069f4bb9def1690c530d65'), ObjectId('67069f4bb9def1690c530d66'), ObjectId('67069f4bb9def1690c530d67'), ObjectId('67069f4bb9def1690c530d68'), ObjectId('67069f4bb9def1690c530d69'), ObjectId('67069f4bb9def1690c530d6a'), ObjectId('67069f4bb9def1690c530d6b'), ObjectId('67069f4bb9def1690c530d6c'), ObjectId('67069f4bb9def1690c530d6d'), ObjectId('67069f4bb9def1690c530d6e'), ObjectId('67069f4bb9def1690c530d6f'), ObjectId('67069f4bb9def1690c530d70'), ObjectId('67069f4bb9def1690c530d71'), ObjectId('67069f4bb9def1690c530d72'), ObjectId('67069f4bb9def1690c530d73'), ObjectId('67069f4bb9def1690c530d74'), ObjectId('67069f4bb9def1690c530d75'), ObjectId('67069f4bb9def1690c530d76'), ObjectId('67069f4bb9def1690c530d77'), ObjectId('67069f4bb9def1690c530d78'), ObjectId('67069f4bb9def1690c530d79'), ObjectId('67069f4bb9def1690c530d7a'), ObjectId('67069f4bb9def1690c530d7b'), ObjectId('67069f4bb9def1690c530d7c'), ObjectId('67069f4bb9def1690c530d7d'), ObjectId('67069f4bb9def1690c530d7e'), ObjectId('67069f4bb9def1690c530d7f'), ObjectId('67069f4bb9def1690c530d80'), ObjectId('67069f4bb9def1690c530d81'), ObjectId('67069f4bb9def1690c530d82'), ObjectId('67069f4bb9def1690c530d83'), ObjectId('67069f4bb9def1690c530d84'), ObjectId('67069f4bb9def1690c530d85'), ObjectId('67069f4bb9def1690c530d86'), ObjectId('67069f4bb9def1690c530d87'), ObjectId('67069f4bb9def1690c530d88'), ObjectId('67069f4bb9def1690c530d89'), ObjectId('67069f4bb9def1690c530d8a'), ObjectId('67069f4bb9def1690c530d8b'), ObjectId('67069f4bb9def1690c530d8c'), ObjectId('67069f4bb9def1690c530d8d'), ObjectId('67069f4bb9def1690c530d8e'), ObjectId('67069f4bb9def1690c530d8f'), ObjectId('67069f4bb9def1690c530d90'), ObjectId('67069f4bb9def1690c530d91'), ObjectId('67069f4bb9def1690c530d92'), ObjectId('67069f4bb9def1690c530d93'), ObjectId('67069f4bb9def1690c530d94'), ObjectId('67069f4bb9def1690c530d95'), ObjectId('67069f4bb9def1690c530d96'), ObjectId('67069f4bb9def1690c530d97'), ObjectId('67069f4bb9def1690c530d98'), ObjectId('67069f4bb9def1690c530d99'), ObjectId('67069f4bb9def1690c530d9a'), ObjectId('67069f4bb9def1690c530d9b'), ObjectId('67069f4bb9def1690c530d9c'), ObjectId('67069f4bb9def1690c530d9d'), ObjectId('67069f4bb9def1690c530d9e'), ObjectId('67069f4bb9def1690c530d9f'), ObjectId('67069f4bb9def1690c530da0'), ObjectId('67069f4bb9def1690c530da1'), ObjectId('67069f4bb9def1690c530da2'), ObjectId('67069f4bb9def1690c530da3'), ObjectId('67069f4bb9def1690c530da4'), ObjectId('67069f4bb9def1690c530da5'), ObjectId('67069f4bb9def1690c530da6'), ObjectId('67069f4bb9def1690c530da7'), ObjectId('67069f4bb9def1690c530da8'), ObjectId('67069f4bb9def1690c530da9'), ObjectId('67069f4bb9def1690c530daa'), ObjectId('67069f4bb9def1690c530dab'), ObjectId('67069f4bb9def1690c530dac'), ObjectId('67069f4bb9def1690c530dad'), ObjectId('67069f4bb9def1690c530dae'), ObjectId('67069f4bb9def1690c530daf'), ObjectId('67069f4bb9def1690c530db0'), ObjectId('67069f4bb9def1690c530db1'), ObjectId('67069f4bb9def1690c530db2'), ObjectId('67069f4bb9def1690c530db3'), ObjectId('67069f4bb9def1690c530db4'), ObjectId('67069f4bb9def1690c530db5'), ObjectId('67069f4bb9def1690c530db6'), ObjectId('67069f4bb9def1690c530db7'), ObjectId('67069f4bb9def1690c530db8'), ObjectId('67069f4bb9def1690c530db9'), ObjectId('67069f4bb9def1690c530dba'), ObjectId('67069f4bb9def1690c530dbb'), ObjectId('67069f4bb9def1690c530dbc'), ObjectId('67069f4bb9def1690c530dbd'), ObjectId('67069f4bb9def1690c530dbe'), ObjectId('67069f4bb9def1690c530dbf'), ObjectId('67069f4bb9def1690c530dc0'), ObjectId('67069f4bb9def1690c530dc1'), ObjectId('67069f4bb9def1690c530dc2'), ObjectId('67069f4bb9def1690c530dc3'), ObjectId('67069f4bb9def1690c530dc4'), ObjectId('67069f4bb9def1690c530dc5'), ObjectId('67069f4bb9def1690c530dc6'), ObjectId('67069f4bb9def1690c530dc7'), ObjectId('67069f4bb9def1690c530dc8'), ObjectId('67069f4bb9def1690c530dc9'), ObjectId('67069f4bb9def1690c530dca'), ObjectId('67069f4bb9def1690c530dcb'), ObjectId('67069f4bb9def1690c530dcc'), ObjectId('67069f4bb9def1690c530dcd'), ObjectId('67069f4bb9def1690c530dce'), ObjectId('67069f4bb9def1690c530dcf'), ObjectId('67069f4bb9def1690c530dd0'), ObjectId('67069f4bb9def1690c530dd1'), ObjectId('67069f4bb9def1690c530dd2'), ObjectId('67069f4bb9def1690c530dd3'), ObjectId('67069f4bb9def1690c530dd4'), ObjectId('67069f4bb9def1690c530dd5'), ObjectId('67069f4bb9def1690c530dd6'), ObjectId('67069f4bb9def1690c530dd7'), ObjectId('67069f4bb9def1690c530dd8'), ObjectId('67069f4bb9def1690c530dd9'), ObjectId('67069f4bb9def1690c530dda'), ObjectId('67069f4bb9def1690c530ddb'), ObjectId('67069f4bb9def1690c530ddc'), ObjectId('67069f4bb9def1690c530ddd'), ObjectId('67069f4bb9def1690c530dde'), ObjectId('67069f4bb9def1690c530ddf'), ObjectId('67069f4bb9def1690c530de0'), ObjectId('67069f4bb9def1690c530de1'), ObjectId('67069f4bb9def1690c530de2'), ObjectId('67069f4bb9def1690c530de3'), ObjectId('67069f4bb9def1690c530de4'), ObjectId('67069f4bb9def1690c530de5'), ObjectId('67069f4bb9def1690c530de6'), ObjectId('67069f4bb9def1690c530de7'), ObjectId('67069f4bb9def1690c530de8'), ObjectId('67069f4bb9def1690c530de9'), ObjectId('67069f4bb9def1690c530dea'), ObjectId('67069f4bb9def1690c530deb'), ObjectId('67069f4bb9def1690c530dec'), ObjectId('67069f4bb9def1690c530ded'), ObjectId('67069f4bb9def1690c530dee'), ObjectId('67069f4bb9def1690c530def'), ObjectId('67069f4bb9def1690c530df0'), ObjectId('67069f4bb9def1690c530df1'), ObjectId('67069f4bb9def1690c530df2'), ObjectId('67069f4bb9def1690c530df3'), ObjectId('67069f4bb9def1690c530df4'), ObjectId('67069f4bb9def1690c530df5'), ObjectId('67069f4bb9def1690c530df6'), ObjectId('67069f4bb9def1690c530df7'), ObjectId('67069f4bb9def1690c530df8'), ObjectId('67069f4bb9def1690c530df9'), ObjectId('67069f4bb9def1690c530dfa'), ObjectId('67069f4bb9def1690c530dfb'), ObjectId('67069f4bb9def1690c530dfc'), ObjectId('67069f4bb9def1690c530dfd'), ObjectId('67069f4bb9def1690c530dfe'), ObjectId('67069f4bb9def1690c530dff'), ObjectId('67069f4bb9def1690c530e00'), ObjectId('67069f4bb9def1690c530e01'), ObjectId('67069f4bb9def1690c530e02'), ObjectId('67069f4bb9def1690c530e03'), ObjectId('67069f4bb9def1690c530e04'), ObjectId('67069f4bb9def1690c530e05'), ObjectId('67069f4bb9def1690c530e06'), ObjectId('67069f4bb9def1690c530e07'), ObjectId('67069f4bb9def1690c530e08'), ObjectId('67069f4bb9def1690c530e09'), ObjectId('67069f4bb9def1690c530e0a'), ObjectId('67069f4bb9def1690c530e0b'), ObjectId('67069f4bb9def1690c530e0c'), ObjectId('67069f4bb9def1690c530e0d'), ObjectId('67069f4bb9def1690c530e0e'), ObjectId('67069f4bb9def1690c530e0f'), ObjectId('67069f4bb9def1690c530e10'), ObjectId('67069f4bb9def1690c530e11'), ObjectId('67069f4bb9def1690c530e12'), ObjectId('67069f4bb9def1690c530e13'), ObjectId('67069f4bb9def1690c530e14'), ObjectId('67069f4bb9def1690c530e15'), ObjectId('67069f4bb9def1690c530e16'), ObjectId('67069f4bb9def1690c530e17'), ObjectId('67069f4bb9def1690c530e18'), ObjectId('67069f4bb9def1690c530e19'), ObjectId('67069f4bb9def1690c530e1a'), ObjectId('67069f4bb9def1690c530e1b'), ObjectId('67069f4bb9def1690c530e1c'), ObjectId('67069f4bb9def1690c530e1d'), ObjectId('67069f4bb9def1690c530e1e'), ObjectId('67069f4bb9def1690c530e1f'), ObjectId('67069f4bb9def1690c530e20'), ObjectId('67069f4bb9def1690c530e21'), ObjectId('67069f4bb9def1690c530e22'), ObjectId('67069f4bb9def1690c530e23'), ObjectId('67069f4bb9def1690c530e24'), ObjectId('67069f4bb9def1690c530e25'), ObjectId('67069f4bb9def1690c530e26'), ObjectId('67069f4bb9def1690c530e27'), ObjectId('67069f4bb9def1690c530e28'), ObjectId('67069f4bb9def1690c530e29'), ObjectId('67069f4bb9def1690c530e2a'), ObjectId('67069f4bb9def1690c530e2b'), ObjectId('67069f4bb9def1690c530e2c'), ObjectId('67069f4bb9def1690c530e2d'), ObjectId('67069f4bb9def1690c530e2e'), ObjectId('67069f4bb9def1690c530e2f'), ObjectId('67069f4bb9def1690c530e30'), ObjectId('67069f4bb9def1690c530e31'), ObjectId('67069f4bb9def1690c530e32'), ObjectId('67069f4bb9def1690c530e33'), ObjectId('67069f4bb9def1690c530e34'), ObjectId('67069f4bb9def1690c530e35'), ObjectId('67069f4bb9def1690c530e36'), ObjectId('67069f4bb9def1690c530e37'), ObjectId('67069f4bb9def1690c530e38'), ObjectId('67069f4bb9def1690c530e39'), ObjectId('67069f4bb9def1690c530e3a'), ObjectId('67069f4bb9def1690c530e3b'), ObjectId('67069f4bb9def1690c530e3c'), ObjectId('67069f4bb9def1690c530e3d'), ObjectId('67069f4bb9def1690c530e3e'), ObjectId('67069f4bb9def1690c530e3f'), ObjectId('67069f4bb9def1690c530e40'), ObjectId('67069f4bb9def1690c530e41'), ObjectId('67069f4bb9def1690c530e42'), ObjectId('67069f4bb9def1690c530e43'), ObjectId('67069f4bb9def1690c530e44'), ObjectId('67069f4bb9def1690c530e45'), ObjectId('67069f4bb9def1690c530e46'), ObjectId('67069f4bb9def1690c530e47'), ObjectId('67069f4bb9def1690c530e48'), ObjectId('67069f4bb9def1690c530e49'), ObjectId('67069f4bb9def1690c530e4a'), ObjectId('67069f4bb9def1690c530e4b'), ObjectId('67069f4bb9def1690c530e4c'), ObjectId('67069f4bb9def1690c530e4d'), ObjectId('67069f4bb9def1690c530e4e'), ObjectId('67069f4bb9def1690c530e4f'), ObjectId('67069f4bb9def1690c530e50'), ObjectId('67069f4bb9def1690c530e51'), ObjectId('67069f4bb9def1690c530e52'), ObjectId('67069f4bb9def1690c530e53'), ObjectId('67069f4bb9def1690c530e54'), ObjectId('67069f4bb9def1690c530e55'), ObjectId('67069f4bb9def1690c530e56'), ObjectId('67069f4bb9def1690c530e57'), ObjectId('67069f4bb9def1690c530e58'), ObjectId('67069f4bb9def1690c530e59'), ObjectId('67069f4bb9def1690c530e5a'), ObjectId('67069f4bb9def1690c530e5b'), ObjectId('67069f4bb9def1690c530e5c'), ObjectId('67069f4bb9def1690c530e5d'), ObjectId('67069f4bb9def1690c530e5e'), ObjectId('67069f4bb9def1690c530e5f'), ObjectId('67069f4bb9def1690c530e60'), ObjectId('67069f4bb9def1690c530e61'), ObjectId('67069f4bb9def1690c530e62'), ObjectId('67069f4bb9def1690c530e63'), ObjectId('67069f4bb9def1690c530e64'), ObjectId('67069f4bb9def1690c530e65'), ObjectId('67069f4bb9def1690c530e66'), ObjectId('67069f4bb9def1690c530e67'), ObjectId('67069f4bb9def1690c530e68'), ObjectId('67069f4bb9def1690c530e69'), ObjectId('67069f4bb9def1690c530e6a'), ObjectId('67069f4bb9def1690c530e6b'), ObjectId('67069f4bb9def1690c530e6c'), ObjectId('67069f4bb9def1690c530e6d'), ObjectId('67069f4bb9def1690c530e6e'), ObjectId('67069f4bb9def1690c530e6f'), ObjectId('67069f4bb9def1690c530e70'), ObjectId('67069f4bb9def1690c530e71'), ObjectId('67069f4bb9def1690c530e72'), ObjectId('67069f4bb9def1690c530e73'), ObjectId('67069f4bb9def1690c530e74'), ObjectId('67069f4bb9def1690c530e75'), ObjectId('67069f4bb9def1690c530e76'), ObjectId('67069f4bb9def1690c530e77'), ObjectId('67069f4bb9def1690c530e78'), ObjectId('67069f4bb9def1690c530e79'), ObjectId('67069f4bb9def1690c530e7a'), ObjectId('67069f4bb9def1690c530e7b'), ObjectId('67069f4bb9def1690c530e7c'), ObjectId('67069f4bb9def1690c530e7d'), ObjectId('67069f4bb9def1690c530e7e'), ObjectId('67069f4bb9def1690c530e7f'), ObjectId('67069f4bb9def1690c530e80'), ObjectId('67069f4bb9def1690c530e81'), ObjectId('67069f4bb9def1690c530e82'), ObjectId('67069f4bb9def1690c530e83'), ObjectId('67069f4bb9def1690c530e84'), ObjectId('67069f4bb9def1690c530e85'), ObjectId('67069f4bb9def1690c530e86'), ObjectId('67069f4bb9def1690c530e87'), ObjectId('67069f4bb9def1690c530e88'), ObjectId('67069f4bb9def1690c530e89'), ObjectId('67069f4bb9def1690c530e8a'), ObjectId('67069f4bb9def1690c530e8b'), ObjectId('67069f4bb9def1690c530e8c'), ObjectId('67069f4bb9def1690c530e8d'), ObjectId('67069f4bb9def1690c530e8e'), ObjectId('67069f4bb9def1690c530e8f'), ObjectId('67069f4bb9def1690c530e90'), ObjectId('67069f4bb9def1690c530e91'), ObjectId('67069f4bb9def1690c530e92'), ObjectId('67069f4bb9def1690c530e93'), ObjectId('67069f4bb9def1690c530e94'), ObjectId('67069f4bb9def1690c530e95'), ObjectId('67069f4bb9def1690c530e96'), ObjectId('67069f4bb9def1690c530e97'), ObjectId('67069f4bb9def1690c530e98'), ObjectId('67069f4bb9def1690c530e99'), ObjectId('67069f4bb9def1690c530e9a'), ObjectId('67069f4bb9def1690c530e9b'), ObjectId('67069f4bb9def1690c530e9c'), ObjectId('67069f4bb9def1690c530e9d'), ObjectId('67069f4bb9def1690c530e9e'), ObjectId('67069f4bb9def1690c530e9f'), ObjectId('67069f4bb9def1690c530ea0'), ObjectId('67069f4bb9def1690c530ea1'), ObjectId('67069f4bb9def1690c530ea2'), ObjectId('67069f4bb9def1690c530ea3'), ObjectId('67069f4bb9def1690c530ea4'), ObjectId('67069f4bb9def1690c530ea5'), ObjectId('67069f4bb9def1690c530ea6'), ObjectId('67069f4bb9def1690c530ea7'), ObjectId('67069f4bb9def1690c530ea8'), ObjectId('67069f4bb9def1690c530ea9'), ObjectId('67069f4bb9def1690c530eaa'), ObjectId('67069f4bb9def1690c530eab'), ObjectId('67069f4bb9def1690c530eac'), ObjectId('67069f4bb9def1690c530ead')], acknowledged=True)"
      ]
     },
     "execution_count": 41,
     "metadata": {},
     "output_type": "execute_result"
    }
   ],
   "source": [
    "db = MongoDBConnection(MONGODB_URL, DATABASE_NAME).get_database()\n",
    "collection = db['product_new']\n",
    "collection.insert_many(df_dict)"
   ]
  },
  {
   "cell_type": "code",
   "execution_count": 66,
   "metadata": {},
   "outputs": [],
   "source": [
    "def pipeline_processing(text, stopword, threshold=0.1):\n",
    "    \n",
    "    # lượt bỏ số và dấu \n",
    "    text = remove_numbers_and_special_chars(text)\n",
    "    \n",
    "    # xử lý văn bản\n",
    "    clean_texts = clean_text(text, stopword)\n",
    "    \n",
    "    # tính toán TF-IDF\n",
    "    cleaned_corpus = [clean_texts for doc in text]\n",
    "    X, feature_names = calculate_tfidf(cleaned_corpus)\n",
    "    \n",
    "    # lọc từ quan trọng\n",
    "    important_texts = filter_important_words(cleaned_corpus, X, feature_names, threshold=threshold)\n",
    "    \n",
    "    return important_texts[-1]"
   ]
  },
  {
   "cell_type": "code",
   "execution_count": 67,
   "metadata": {},
   "outputs": [],
   "source": [
    "textComplete = pipeline_processing(text, stopword)"
   ]
  },
  {
   "cell_type": "code",
   "execution_count": 69,
   "metadata": {},
   "outputs": [
    {
     "data": {
      "text/plain": [
       "423"
      ]
     },
     "execution_count": 69,
     "metadata": {},
     "output_type": "execute_result"
    }
   ],
   "source": [
    "len(textComplete)"
   ]
  },
  {
   "cell_type": "code",
   "execution_count": null,
   "metadata": {},
   "outputs": [],
   "source": []
  }
 ],
 "metadata": {
  "kernelspec": {
   "display_name": "MyVenv",
   "language": "python",
   "name": "python3"
  },
  "language_info": {
   "codemirror_mode": {
    "name": "ipython",
    "version": 3
   },
   "file_extension": ".py",
   "mimetype": "text/x-python",
   "name": "python",
   "nbconvert_exporter": "python",
   "pygments_lexer": "ipython3",
   "version": "3.9.0"
  }
 },
 "nbformat": 4,
 "nbformat_minor": 2
}
